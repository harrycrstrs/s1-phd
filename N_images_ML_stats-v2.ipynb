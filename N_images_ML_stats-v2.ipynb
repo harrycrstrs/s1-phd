{
 "cells": [
  {
   "cell_type": "code",
   "execution_count": 1,
   "metadata": {},
   "outputs": [],
   "source": [
    "import pandas as pd\n",
    "import geopandas as gpd\n",
    "import os\n",
    "from matplotlib import pyplot as plt\n",
    "from scipy.optimize import curve_fit\n",
    "import numpy as np\n",
    "from glob import glob\n",
    "\n",
    "## GET RATE OF MISSED DETECTION / FALSE ALARMS"
   ]
  },
  {
   "cell_type": "code",
   "execution_count": 2,
   "metadata": {},
   "outputs": [],
   "source": [
    "os.chdir('/exports/csce/datastore/geos/users/s1332488/chapter2_data/')"
   ]
  },
  {
   "cell_type": "code",
   "execution_count": 217,
   "metadata": {},
   "outputs": [],
   "source": [
    "shadows = [gpd.read_file(f) for f in glob('shadows_aoi/poly_*.shp')]\n",
    "params = [x.split('poly_')[1].split('.shp')[0] for x in glob('shadows_aoi/poly_*.shp')]\n",
    "gaps = gpd.read_file('uav_canopy_gaps_over100m2.shp').to_crs('EPSG:32633')\n",
    "A,B = 500,1000 # Cutoffs in m2 for small/medium/large canopy gaps\n",
    "aoi = gpd.read_file('test_area_split_1ha.shp')\n",
    "core_gaps = gpd.read_file('uav_gaps_CORE.shp').to_crs('EPSG:32633')\n",
    "radd = gpd.read_file('shadows_aoi/poly_RADD_extended.zip').to_crs('EPSG:32633')\n",
    "rndm = gpd.read_file('random_shadows/2pixel_blocks.shp').to_crs('EPSG:32633')\n",
    "rndm_big = gpd.read_file('random_shadows/759l_blocks.shp').to_crs('EPSG:32633')"
   ]
  },
  {
   "cell_type": "code",
   "execution_count": 93,
   "metadata": {},
   "outputs": [
    {
     "data": {
      "text/plain": [
       "['N30_M9',\n",
       " 'N25_M1',\n",
       " 'N15_M9',\n",
       " 'RADD',\n",
       " 'N05_M9',\n",
       " 'N30_M1',\n",
       " 'N10_M1',\n",
       " 'N25_M9',\n",
       " 'N15_M1',\n",
       " 'N05_M1',\n",
       " 'N10_M9']"
      ]
     },
     "execution_count": 93,
     "metadata": {},
     "output_type": "execute_result"
    }
   ],
   "source": [
    "params"
   ]
  },
  {
   "cell_type": "code",
   "execution_count": 102,
   "metadata": {},
   "outputs": [
    {
     "data": {
      "text/plain": [
       "6.181409829735928"
      ]
     },
     "execution_count": 102,
     "metadata": {},
     "output_type": "execute_result"
    }
   ],
   "source": [
    "## Manual classification of N25, M0 shadows - it gives the following false alarm rate\n",
    "S = shadows[1]\n",
    "100* (1-S[S.IS_GAP==1].area.sum() / S.area.sum())\n",
    "# Which turns out to be exactly the same as taking the original intersection method\n"
   ]
  },
  {
   "cell_type": "code",
   "execution_count": 167,
   "metadata": {},
   "outputs": [],
   "source": [
    "thresh = 0.001 # Fractional area of intersection for a polygon to count as correct\n",
    "\n",
    "def get_acc_n(df,col):\n",
    "    return df[col].mean()\n",
    "# USING AREA BASED METRICS - AS AREA DEGRADED IS THE MAIN AIM\n",
    "\n",
    "def get_acc_area(df,col):\n",
    "    if df.area.sum() != 0 :\n",
    "        return df[df[col]].area.sum() / df.area.sum()\n",
    "    else:\n",
    "        return np.nan\n",
    "\n",
    "def get_acc(df,col):\n",
    "    small,medium,large = df[df.area<=A] , df[(df.area>A) & (df.area<=B)] , df[df.area>B]\n",
    "    return np.array([get_acc_area(df,col),\n",
    "                     get_acc_area(small,col),\n",
    "                     get_acc_area(medium,col),\n",
    "                     get_acc_area(large,col)])\n",
    "#     return np.array([get_acc_n(df,col),\n",
    "#                      get_acc_n(small,col),\n",
    "#                      get_acc_n(medium,col),\n",
    "#                      get_acc_n(large,col)])\n",
    "\n",
    "def overall_acc(S,G):\n",
    "    total_area = aoi.area.sum()\n",
    "    false_alarm = S[~S.shadow_is_gap].area.sum()\n",
    "    missed_detection = G[~G.gap_detected].area.sum()\n",
    "    return (total_area - false_alarm - missed_detection) / total_area\n",
    "\n",
    "def get_stats(S,p): # S being shadow dataset and p being the parameter string\n",
    "    G = gaps.copy()\n",
    "    S['shadow_is_gap'] = (S.intersection(G.unary_union).area / S.area) > thresh\n",
    "    G['gap_detected'] = (G.intersection(S.unary_union).area / G.area) > thresh\n",
    "    false_alarm = 100* (1-get_acc(S,'shadow_is_gap'))\n",
    "    missed_detection = 100* (1-get_acc(G,'gap_detected'))\n",
    "    overall = np.array([overall_acc(S,G)])\n",
    "    data = np.concatenate([overall,false_alarm,missed_detection])\n",
    "    return pd.DataFrame([data],\n",
    "                        columns=['Overall',\n",
    "                                 'FA_total','FA_small','FA_medium','FA_big',\n",
    "                                 'MD_total','MD_small','MD_medium','MD_big'],\n",
    "                        index=[p])"
   ]
  },
  {
   "cell_type": "code",
   "execution_count": 40,
   "metadata": {},
   "outputs": [
    {
     "name": "stderr",
     "output_type": "stream",
     "text": [
      "/home/s1332488/.local/lib/python3.7/site-packages/ipykernel_launcher.py:8: RuntimeWarning: invalid value encountered in double_scalars\n",
      "  \n"
     ]
    },
    {
     "data": {
      "text/html": [
       "<div>\n",
       "<style scoped>\n",
       "    .dataframe tbody tr th:only-of-type {\n",
       "        vertical-align: middle;\n",
       "    }\n",
       "\n",
       "    .dataframe tbody tr th {\n",
       "        vertical-align: top;\n",
       "    }\n",
       "\n",
       "    .dataframe thead th {\n",
       "        text-align: right;\n",
       "    }\n",
       "</style>\n",
       "<table border=\"1\" class=\"dataframe\">\n",
       "  <thead>\n",
       "    <tr style=\"text-align: right;\">\n",
       "      <th></th>\n",
       "      <th>Overall</th>\n",
       "      <th>FA_total</th>\n",
       "      <th>FA_small</th>\n",
       "      <th>FA_medium</th>\n",
       "      <th>FA_big</th>\n",
       "      <th>MD_total</th>\n",
       "      <th>MD_small</th>\n",
       "      <th>MD_medium</th>\n",
       "      <th>MD_big</th>\n",
       "    </tr>\n",
       "  </thead>\n",
       "  <tbody>\n",
       "    <tr>\n",
       "      <th>radd to 2021</th>\n",
       "      <td>0.953447</td>\n",
       "      <td>7.623311</td>\n",
       "      <td>NaN</td>\n",
       "      <td>0.0</td>\n",
       "      <td>7.94392</td>\n",
       "      <td>88.519875</td>\n",
       "      <td>98.767023</td>\n",
       "      <td>100.0</td>\n",
       "      <td>70.310857</td>\n",
       "    </tr>\n",
       "  </tbody>\n",
       "</table>\n",
       "</div>"
      ],
      "text/plain": [
       "               Overall  FA_total  FA_small  FA_medium   FA_big   MD_total  \\\n",
       "radd to 2021  0.953447  7.623311       NaN        0.0  7.94392  88.519875   \n",
       "\n",
       "               MD_small  MD_medium     MD_big  \n",
       "radd to 2021  98.767023      100.0  70.310857  "
      ]
     },
     "execution_count": 40,
     "metadata": {},
     "output_type": "execute_result"
    }
   ],
   "source": [
    "get_stats(radd,'radd to 2021')"
   ]
  },
  {
   "cell_type": "code",
   "execution_count": 153,
   "metadata": {},
   "outputs": [],
   "source": [
    "stats = get_stats(shadows[0],params[0])\n",
    "for i in range(1,len(params)):\n",
    "    stats=stats.append(get_stats(shadows[i],params[i]))"
   ]
  },
  {
   "cell_type": "code",
   "execution_count": 154,
   "metadata": {},
   "outputs": [],
   "source": [
    "stats['Overall'] = 100*stats.Overall"
   ]
  },
  {
   "cell_type": "code",
   "execution_count": 155,
   "metadata": {
    "scrolled": true
   },
   "outputs": [
    {
     "data": {
      "text/html": [
       "<div>\n",
       "<style scoped>\n",
       "    .dataframe tbody tr th:only-of-type {\n",
       "        vertical-align: middle;\n",
       "    }\n",
       "\n",
       "    .dataframe tbody tr th {\n",
       "        vertical-align: top;\n",
       "    }\n",
       "\n",
       "    .dataframe thead th {\n",
       "        text-align: right;\n",
       "    }\n",
       "</style>\n",
       "<table border=\"1\" class=\"dataframe\">\n",
       "  <thead>\n",
       "    <tr style=\"text-align: right;\">\n",
       "      <th></th>\n",
       "      <th>Overall</th>\n",
       "      <th>FA_total</th>\n",
       "      <th>FA_small</th>\n",
       "      <th>FA_medium</th>\n",
       "      <th>FA_big</th>\n",
       "      <th>MD_total</th>\n",
       "      <th>MD_small</th>\n",
       "      <th>MD_medium</th>\n",
       "      <th>MD_big</th>\n",
       "    </tr>\n",
       "  </thead>\n",
       "  <tbody>\n",
       "    <tr>\n",
       "      <th>N25_M1</th>\n",
       "      <td>99.0</td>\n",
       "      <td>6.6</td>\n",
       "      <td>31.1</td>\n",
       "      <td>5.5</td>\n",
       "      <td>0.0</td>\n",
       "      <td>12.1</td>\n",
       "      <td>35.1</td>\n",
       "      <td>9.8</td>\n",
       "      <td>0.0</td>\n",
       "    </tr>\n",
       "    <tr>\n",
       "      <th>N25_M9</th>\n",
       "      <td>98.8</td>\n",
       "      <td>4.2</td>\n",
       "      <td>30.3</td>\n",
       "      <td>10.6</td>\n",
       "      <td>0.0</td>\n",
       "      <td>17.0</td>\n",
       "      <td>48.3</td>\n",
       "      <td>14.3</td>\n",
       "      <td>0.0</td>\n",
       "    </tr>\n",
       "    <tr>\n",
       "      <th>N30_M9</th>\n",
       "      <td>98.8</td>\n",
       "      <td>5.9</td>\n",
       "      <td>38.5</td>\n",
       "      <td>18.0</td>\n",
       "      <td>0.0</td>\n",
       "      <td>14.6</td>\n",
       "      <td>40.3</td>\n",
       "      <td>13.0</td>\n",
       "      <td>0.0</td>\n",
       "    </tr>\n",
       "    <tr>\n",
       "      <th>N30_M1</th>\n",
       "      <td>98.7</td>\n",
       "      <td>10.2</td>\n",
       "      <td>45.1</td>\n",
       "      <td>5.9</td>\n",
       "      <td>0.0</td>\n",
       "      <td>11.6</td>\n",
       "      <td>33.5</td>\n",
       "      <td>9.4</td>\n",
       "      <td>0.0</td>\n",
       "    </tr>\n",
       "    <tr>\n",
       "      <th>N15_M9</th>\n",
       "      <td>98.6</td>\n",
       "      <td>6.7</td>\n",
       "      <td>37.6</td>\n",
       "      <td>9.7</td>\n",
       "      <td>0.0</td>\n",
       "      <td>20.6</td>\n",
       "      <td>54.7</td>\n",
       "      <td>19.7</td>\n",
       "      <td>0.0</td>\n",
       "    </tr>\n",
       "    <tr>\n",
       "      <th>N15_M1</th>\n",
       "      <td>98.4</td>\n",
       "      <td>14.8</td>\n",
       "      <td>53.3</td>\n",
       "      <td>6.1</td>\n",
       "      <td>0.0</td>\n",
       "      <td>13.1</td>\n",
       "      <td>37.5</td>\n",
       "      <td>9.1</td>\n",
       "      <td>1.8</td>\n",
       "    </tr>\n",
       "    <tr>\n",
       "      <th>N10_M9</th>\n",
       "      <td>98.3</td>\n",
       "      <td>8.7</td>\n",
       "      <td>30.8</td>\n",
       "      <td>14.6</td>\n",
       "      <td>0.0</td>\n",
       "      <td>25.0</td>\n",
       "      <td>57.6</td>\n",
       "      <td>29.3</td>\n",
       "      <td>0.0</td>\n",
       "    </tr>\n",
       "    <tr>\n",
       "      <th>N10_M1</th>\n",
       "      <td>98.3</td>\n",
       "      <td>16.6</td>\n",
       "      <td>46.7</td>\n",
       "      <td>6.2</td>\n",
       "      <td>0.0</td>\n",
       "      <td>17.5</td>\n",
       "      <td>45.9</td>\n",
       "      <td>12.2</td>\n",
       "      <td>5.1</td>\n",
       "    </tr>\n",
       "    <tr>\n",
       "      <th>N05_M9</th>\n",
       "      <td>97.6</td>\n",
       "      <td>12.6</td>\n",
       "      <td>33.8</td>\n",
       "      <td>10.2</td>\n",
       "      <td>0.0</td>\n",
       "      <td>40.1</td>\n",
       "      <td>73.4</td>\n",
       "      <td>48.4</td>\n",
       "      <td>10.4</td>\n",
       "    </tr>\n",
       "    <tr>\n",
       "      <th>N05_M1</th>\n",
       "      <td>97.4</td>\n",
       "      <td>28.2</td>\n",
       "      <td>52.6</td>\n",
       "      <td>9.7</td>\n",
       "      <td>0.0</td>\n",
       "      <td>26.3</td>\n",
       "      <td>55.7</td>\n",
       "      <td>26.7</td>\n",
       "      <td>7.4</td>\n",
       "    </tr>\n",
       "    <tr>\n",
       "      <th>RADD</th>\n",
       "      <td>95.3</td>\n",
       "      <td>4.9</td>\n",
       "      <td>91.5</td>\n",
       "      <td>0.0</td>\n",
       "      <td>0.0</td>\n",
       "      <td>90.7</td>\n",
       "      <td>100.0</td>\n",
       "      <td>100.0</td>\n",
       "      <td>75.4</td>\n",
       "    </tr>\n",
       "  </tbody>\n",
       "</table>\n",
       "</div>"
      ],
      "text/plain": [
       "        Overall  FA_total  FA_small  FA_medium  FA_big  MD_total  MD_small  \\\n",
       "N25_M1     99.0       6.6      31.1        5.5     0.0      12.1      35.1   \n",
       "N25_M9     98.8       4.2      30.3       10.6     0.0      17.0      48.3   \n",
       "N30_M9     98.8       5.9      38.5       18.0     0.0      14.6      40.3   \n",
       "N30_M1     98.7      10.2      45.1        5.9     0.0      11.6      33.5   \n",
       "N15_M9     98.6       6.7      37.6        9.7     0.0      20.6      54.7   \n",
       "N15_M1     98.4      14.8      53.3        6.1     0.0      13.1      37.5   \n",
       "N10_M9     98.3       8.7      30.8       14.6     0.0      25.0      57.6   \n",
       "N10_M1     98.3      16.6      46.7        6.2     0.0      17.5      45.9   \n",
       "N05_M9     97.6      12.6      33.8       10.2     0.0      40.1      73.4   \n",
       "N05_M1     97.4      28.2      52.6        9.7     0.0      26.3      55.7   \n",
       "RADD       95.3       4.9      91.5        0.0     0.0      90.7     100.0   \n",
       "\n",
       "        MD_medium  MD_big  \n",
       "N25_M1        9.8     0.0  \n",
       "N25_M9       14.3     0.0  \n",
       "N30_M9       13.0     0.0  \n",
       "N30_M1        9.4     0.0  \n",
       "N15_M9       19.7     0.0  \n",
       "N15_M1        9.1     1.8  \n",
       "N10_M9       29.3     0.0  \n",
       "N10_M1       12.2     5.1  \n",
       "N05_M9       48.4    10.4  \n",
       "N05_M1       26.7     7.4  \n",
       "RADD        100.0    75.4  "
      ]
     },
     "execution_count": 155,
     "metadata": {},
     "output_type": "execute_result"
    }
   ],
   "source": [
    "stats.sort_values(by='Overall',ascending=False).round(1)"
   ]
  },
  {
   "cell_type": "markdown",
   "metadata": {},
   "source": [
    "## Random Analysis"
   ]
  },
  {
   "cell_type": "code",
   "execution_count": 225,
   "metadata": {},
   "outputs": [
    {
     "name": "stdout",
     "output_type": "stream",
     "text": [
      "Number of 759m2 boxes to fil for a random shadow distribution\n",
      "212.41482595167352\n"
     ]
    }
   ],
   "source": [
    "### USING MEAN AREA OF SHADOW BLOCKS....\n",
    "\n",
    "print('Number of 759m2 boxes to fil for a random shadow distribution')\n",
    "print(gaps.area.sum()/759)\n",
    "\n",
    "p = 212/4122 # Probability of each box being a shadow\n",
    "\n",
    "accs_big = []\n",
    "fas_big = []\n",
    "mds_big = []\n",
    "for i in range(1000):\n",
    "    R = rndm_big.copy()\n",
    "    R['shadow']= np.random.choice([0,1], size=4122, replace=True, p=[1-p,p])\n",
    "    R = R[R.shadow==1]\n",
    "    STATS = get_stats(R,'')\n",
    "    accs_big.append(STATS.Overall[0])\n",
    "    fas_big.append(STATS.FA_total[0])\n",
    "    mds_big.append(STATS.MD_total[0])"
   ]
  },
  {
   "cell_type": "code",
   "execution_count": 226,
   "metadata": {},
   "outputs": [
    {
     "data": {
      "image/png": "[encoded data removed]",
      "text/plain": [
       "<Figure size 864x288 with 3 Axes>"
      ]
     },
     "metadata": {
      "needs_background": "light"
     },
     "output_type": "display_data"
    },
    {
     "name": "stdout",
     "output_type": "stream",
     "text": [
      "ACCURACY\n",
      "0.9227356542098076 0.003683474775384656\n",
      "FALSE ALARM\n",
      "74.55630157184981 2.944891178928594\n",
      "MISSED DETECTION\n",
      "74.16129150311524 3.79639333011473\n"
     ]
    }
   ],
   "source": [
    "plt.figure(figsize=(12,4))\n",
    "plt.subplot(1,3,1)\n",
    "plt.title('Overall Accuracy')\n",
    "plt.hist(accs_big,label='Null Hypothesis')\n",
    "plt.axvline(x=0.99,color='red',label='FODEX result')\n",
    "plt.legend()\n",
    "\n",
    "plt.subplot(1,3,2)\n",
    "plt.title('False Alarm Rate')\n",
    "plt.hist(fas_big,label='Null Hypothesis')\n",
    "plt.axvline(x=6,color='red',label='FODEX result')\n",
    "plt.legend()\n",
    "\n",
    "plt.subplot(1,3,3)\n",
    "plt.title('Missed Detection Rate')\n",
    "plt.hist(mds_big,label='Null Hypothesis')\n",
    "plt.axvline(x=12,color='red',label='FODEX result')\n",
    "plt.legend()\n",
    "plt.savefig('/home/s1332488/chapter2/reviews/null_hyp_big.png',dpi=300)\n",
    "plt.show()\n",
    "\n",
    "\n",
    "print('ACCURACY')\n",
    "print(np.array(accs_big).mean(),np.array(accs_big).std())\n",
    "print('FALSE ALARM')\n",
    "print(np.array(fas_big).mean(),np.array(fas_big).std())\n",
    "print('MISSED DETECTION')\n",
    "print(np.array(mds_big).mean(),np.array(mds_big).std())"
   ]
  },
  {
   "cell_type": "code",
   "execution_count": 168,
   "metadata": {
    "scrolled": true
   },
   "outputs": [
    {
     "name": "stdout",
     "output_type": "stream",
     "text": [
      "Number of 200m2 boxes to fill for a random shadow distribution\n",
      "806.114264486601\n"
     ]
    }
   ],
   "source": [
    "### USING 200m2 BLOCKS\n",
    "\n",
    "print('Number of 200m2 boxes to fill for a random shadow distribution')\n",
    "print(gaps.area.sum() / 200)\n",
    "####################\n",
    "p = 806/15636 \n",
    "## Probability of each box being a shadow\n",
    "\n",
    "accs = []\n",
    "fas = []\n",
    "mds = []\n",
    "for i in range(1000):\n",
    "    R = rndm.copy()\n",
    "    R['shadow']= np.random.choice([0,1], size=15636, replace=True, p=[1-p,p])\n",
    "    R = R[R.shadow==1]\n",
    "    STATS = get_stats(R,'')\n",
    "    accs.append(STATS.Overall[0])\n",
    "    fas.append(STATS.FA_total[0])\n",
    "    mds.append(STATS.MD_total[0])\n",
    "\n",
    "# plt.figure(figsize=(12,12))\n",
    "# ax = plt.axes()\n",
    "# test.plot(ax=ax,alpha=0.5)\n",
    "# gaps.plot(ax=ax,color='red',alpha=0.5)\n"
   ]
  },
  {
   "cell_type": "code",
   "execution_count": 184,
   "metadata": {},
   "outputs": [],
   "source": [
    "accs = [x[0] for x in accs]\n",
    "fas = [x[0] for x in fas]\n",
    "mds = [x[0] for x in mds]"
   ]
  },
  {
   "cell_type": "code",
   "execution_count": 216,
   "metadata": {},
   "outputs": [
    {
     "data": {
      "text/plain": [
       "759.3122303306282"
      ]
     },
     "execution_count": 216,
     "metadata": {},
     "output_type": "execute_result"
    }
   ],
   "source": [
    "shadows[1].area.mean()"
   ]
  },
  {
   "cell_type": "code",
   "execution_count": 215,
   "metadata": {},
   "outputs": [
    {
     "data": {
      "image/png": "[encoded data removed]",
      "text/plain": [
       "<Figure size 864x288 with 3 Axes>"
      ]
     },
     "metadata": {
      "needs_background": "light"
     },
     "output_type": "display_data"
    },
    {
     "name": "stdout",
     "output_type": "stream",
     "text": [
      "ACCURACY\n",
      "0.9279916518840802 0.002497162315912617\n",
      "FALSE ALARM\n",
      "84.85729970866299 1.238188438059536\n",
      "MISSED DETECTION\n",
      "53.77662686279818 3.686369016416197\n"
     ]
    }
   ],
   "source": [
    "plt.figure(figsize=(12,4))\n",
    "plt.subplot(1,3,1)\n",
    "plt.title('Overall Accuracy')\n",
    "plt.hist(accs,label='Null Hypothesis')\n",
    "plt.axvline(x=0.99,color='red',label='FODEX result')\n",
    "plt.legend()\n",
    "\n",
    "plt.subplot(1,3,2)\n",
    "plt.title('False Alarm Rate')\n",
    "plt.hist(fas,label='Null Hypothesis')\n",
    "plt.axvline(x=6,color='red',label='FODEX result')\n",
    "plt.legend()\n",
    "\n",
    "plt.subplot(1,3,3)\n",
    "plt.title('Missed Detection Rate')\n",
    "plt.hist(mds,label='Null Hypothesis')\n",
    "plt.axvline(x=12,color='red',label='FODEX result')\n",
    "plt.legend()\n",
    "plt.savefig('/home/s1332488/chapter2/reviews/null_hyp.png',dpi=300)\n",
    "plt.show()\n",
    "\n",
    "\n",
    "print('ACCURACY')\n",
    "print(np.array(accs).mean(),np.array(accs).std())\n",
    "print('FALSE ALARM')\n",
    "print(np.array(fas).mean(),np.array(fas).std())\n",
    "print('MISSED DETECTION')\n",
    "print(np.array(mds).mean(),np.array(mds).std())"
   ]
  },
  {
   "cell_type": "code",
   "execution_count": 91,
   "metadata": {},
   "outputs": [
    {
     "data": {
      "text/plain": [
       "(0.0, 50.0)"
      ]
     },
     "execution_count": 91,
     "metadata": {},
     "output_type": "execute_result"
    },
    {
     "data": {
      "image/png": "[encoded data removed]",
      "text/plain": [
       "<Figure size 864x720 with 1 Axes>"
      ]
     },
     "metadata": {
      "needs_background": "light"
     },
     "output_type": "display_data"
    }
   ],
   "source": [
    "plt.figure(figsize=(12,10))\n",
    "ax=plt.axes()\n",
    "# stats.sort_index().Overall.plot.bar(ax=ax)\n",
    "# plt.ylim(95,99)\n",
    "stats.sort_index().MD_medium.plot.bar(ax=ax)\n",
    "plt.ylim(0,50)"
   ]
  },
  {
   "cell_type": "code",
   "execution_count": 15,
   "metadata": {},
   "outputs": [
    {
     "name": "stdout",
     "output_type": "stream",
     "text": [
      "total area of canopy gaps:  16.13  ha\n",
      "total AOI:  310.4  ha\n",
      "Overall percentage canopy gaps:  5.2  %\n"
     ]
    }
   ],
   "source": [
    "print('total area of canopy gaps: ',str(round(gaps.area.sum()/10000,2)),' ha')\n",
    "print('total AOI: ',str(round(aoi.area.sum()/10000,2)),' ha')\n",
    "print('Overall percentage canopy gaps: ',str(round(100*gaps.area.sum()/aoi.area.sum(),2)),' %')\n"
   ]
  },
  {
   "cell_type": "code",
   "execution_count": 87,
   "metadata": {},
   "outputs": [
    {
     "name": "stdout",
     "output_type": "stream",
     "text": [
      "Area of Small Shadows:  3.2\n"
     ]
    }
   ],
   "source": [
    "shad = shadows[0]\n",
    "small = shad[shad.area<=A]\n",
    "area_small = small.area.sum()\n",
    "print('Area of Small Shadows: ',str(round(area_small/10000,2)))"
   ]
  },
  {
   "cell_type": "code",
   "execution_count": 183,
   "metadata": {},
   "outputs": [],
   "source": [
    "stats.round(1).to_csv('N_images_ML_stats.csv')"
   ]
  },
  {
   "cell_type": "code",
   "execution_count": 139,
   "metadata": {},
   "outputs": [],
   "source": [
    "#### Now check out the correlation coefficients"
   ]
  },
  {
   "cell_type": "code",
   "execution_count": 4,
   "metadata": {},
   "outputs": [
    {
     "data": {
      "text/plain": [
       "['one_hectare_corr/shadows_N05_M9.csv',\n",
       " 'one_hectare_corr/shadows_N05_M1.csv',\n",
       " 'one_hectare_corr/shadows_N30_M9.csv',\n",
       " 'one_hectare_corr/shadows_RADD.csv',\n",
       " 'one_hectare_corr/shadows_N30_M1.csv',\n",
       " 'one_hectare_corr/shadows_N15_M1.csv',\n",
       " 'one_hectare_corr/shadows_N10_M1.csv',\n",
       " 'one_hectare_corr/shadows_N15_M9.csv',\n",
       " 'one_hectare_corr/shadows_N10_M9.csv',\n",
       " 'one_hectare_corr/shadows_N25_M9.csv',\n",
       " 'one_hectare_corr/shadows_N25_M1.csv']"
      ]
     },
     "execution_count": 4,
     "metadata": {},
     "output_type": "execute_result"
    }
   ],
   "source": [
    "glob('one_hectare_corr/*.csv')"
   ]
  },
  {
   "cell_type": "code",
   "execution_count": 5,
   "metadata": {},
   "outputs": [],
   "source": [
    "files= glob('one_hectare_corr/*.csv')\n",
    "files.sort()\n",
    "corr = [pd.read_csv(f) for f in files]\n",
    "p = [x.split('shadows_')[1].split('.csv')[0] for x in files]"
   ]
  },
  {
   "cell_type": "code",
   "execution_count": 7,
   "metadata": {},
   "outputs": [
    {
     "name": "stdout",
     "output_type": "stream",
     "text": [
      "['N05_M1', 'N05_M9', 'N10_M1', 'N10_M9', 'N15_M1', 'N15_M9', 'N25_M1', 'N25_M9', 'N30_M1', 'N30_M9', 'RADD']\n",
      "N25_M1\n",
      "canopy disturbance = 0.8748421110439895 x S-1 (total area fit)\n",
      "[1.07208023]\n"
     ]
    },
    {
     "name": "stderr",
     "output_type": "stream",
     "text": [
      "/home/s1332488/.local/lib/python3.7/site-packages/ipykernel_launcher.py:7: FutureWarning: `rcond` parameter will change to the default of machine precision times ``max(M, N)`` where M and N are the input matrix dimensions.\n",
      "To use the future default and silence this warning we advise to pass `rcond=None`, to keep using the old, explicitly pass `rcond=-1`.\n",
      "  import sys\n"
     ]
    },
    {
     "data": {
      "text/plain": [
       "<matplotlib.lines.Line2D at 0x7f8f029dea50>"
      ]
     },
     "execution_count": 7,
     "metadata": {},
     "output_type": "execute_result"
    },
    {
     "data": {
      "image/png": "[encoded data removed]",
      "text/plain": [
       "<Figure size 432x288 with 1 Axes>"
      ]
     },
     "metadata": {
      "needs_background": "light"
     },
     "output_type": "display_data"
    }
   ],
   "source": [
    "print(p)\n",
    "print(p[-5])\n",
    "data = corr[-5]\n",
    "SLOPE = data.b1.sum() / data.shadow.sum()\n",
    "print('canopy disturbance = '+str(SLOPE)+' x S-1 (total area fit)')\n",
    "x = data.b1.values[:,np.newaxis]\n",
    "slope2, _, _, _ = np.linalg.lstsq(x, data.shadow)\n",
    "# slope2 = np.polyfit(data.b1,data.shadow,1)\n",
    "print(slope2)\n",
    "data.plot.scatter(x='b1',y='shadow',color='black',s=5)\n",
    "plt.plot( np.linspace(0,0.25),np.linspace(0,0.25)/slope2)\n",
    "plt.plot( np.linspace(0,0.25),np.linspace(0,0.25)/SLOPE)\n",
    "plt.axhline(y=0.2)"
   ]
  },
  {
   "cell_type": "code",
   "execution_count": 10,
   "metadata": {},
   "outputs": [
    {
     "data": {
      "image/png": "[encoded data removed]",
      "text/plain": [
       "<Figure size 576x288 with 2 Axes>"
      ]
     },
     "metadata": {
      "needs_background": "light"
     },
     "output_type": "display_data"
    }
   ],
   "source": [
    "N25 = corr[-5]\n",
    "corr_5ha = pd.read_csv('correlation_5ha.csv')\n",
    "plt.figure(figsize=(8,4))\n",
    "plt.subplot(1,2,2)\n",
    "plt.title('Per 5 ha')\n",
    "plt.xlabel('UAV Canopy Cover Loss')\n",
    "plt.ylabel('S-1 Area Disturbed')\n",
    "xx = np.linspace(0,0.15)\n",
    "R =corr_5ha.corr().shadow.b1\n",
    "plt.text(0.01,0.125,'$r^2$ = '+str(round(R**2,2)))\n",
    "plt.plot(xx,xx/SLOPE,color='grey',zorder=0)\n",
    "plt.scatter(corr_5ha.b1,corr_5ha.shadow,color='black',s=10,alpha=1,linewidths=0)\n",
    "plt.subplot(1,2,1)\n",
    "plt.title('Per 1 ha')\n",
    "plt.xlabel('UAV Canopy Cover Loss')\n",
    "plt.ylabel('S-1 Area Disturbed')\n",
    "xx = np.linspace(0,0.25)\n",
    "plt.plot(xx,xx/SLOPE,color='grey',zorder=0)\n",
    "R =N25.corr().shadow.b1\n",
    "plt.scatter(N25.b1,N25.shadow,color='black',s=5,alpha=0.5,linewidths=0)\n",
    "plt.text(0.01,0.25,'$r^2$ = '+str(round(R**2,2)))\n",
    "plt.tight_layout()\n",
    "plt.savefig('/home/s1332488/chapter2/correlation_1ha5ha.png',dpi=300)"
   ]
  },
  {
   "cell_type": "code",
   "execution_count": 11,
   "metadata": {},
   "outputs": [
    {
     "name": "stdout",
     "output_type": "stream",
     "text": [
      "1.143063402385436\n"
     ]
    }
   ],
   "source": [
    "print(1/SLOPE)"
   ]
  },
  {
   "cell_type": "code",
   "execution_count": 12,
   "metadata": {},
   "outputs": [],
   "source": [
    "def rmse(data):\n",
    "    slope = data.shadow.sum()/data.b1.sum()\n",
    "    data['estimated'] = data.shadow/slope\n",
    "    err = np.sqrt(((data.estimated - data.b1) ** 2).mean())\n",
    "    return err"
   ]
  },
  {
   "cell_type": "code",
   "execution_count": 13,
   "metadata": {},
   "outputs": [
    {
     "data": {
      "text/plain": [
       "['N05_M1',\n",
       " 'N05_M9',\n",
       " 'N10_M1',\n",
       " 'N10_M9',\n",
       " 'N15_M1',\n",
       " 'N15_M9',\n",
       " 'N25_M1',\n",
       " 'N25_M9',\n",
       " 'N30_M1',\n",
       " 'N30_M9',\n",
       " 'RADD']"
      ]
     },
     "execution_count": 13,
     "metadata": {},
     "output_type": "execute_result"
    }
   ],
   "source": [
    "p"
   ]
  },
  {
   "cell_type": "code",
   "execution_count": 15,
   "metadata": {},
   "outputs": [
    {
     "data": {
      "image/png": "[encoded data removed]",
      "text/plain": [
       "<Figure size 576x864 with 10 Axes>"
      ]
     },
     "metadata": {
      "needs_background": "light"
     },
     "output_type": "display_data"
    }
   ],
   "source": [
    "plt.figure(figsize=(8,12))\n",
    "for i in range(10):\n",
    "    data = corr[i]\n",
    "    N = p[i][1:3]\n",
    "    M=(p[i][-1])\n",
    "    slope = data.shadow.sum() / data.b1.sum()\n",
    "    err = rmse(data)\n",
    "    plt.subplot(5,2,i+1)\n",
    "    if i ==0:\n",
    "       plt.title('No Multilooking')\n",
    "    if i == 1:\n",
    "       plt.title('Multilooking')\n",
    "    if i%2==0:\n",
    "       plt.ylabel(N+' post event images')\n",
    "    R = corr[i].corr().shadow.b1\n",
    "    plt.text(0.01,0.45,'$r^2$ = '+str(round(R**2,3))+', RMSE = '+str(round(err,2))+', Slope = '+str(round(slope,2)))\n",
    "    xx = np.linspace(0,0.25)\n",
    "    plt.plot(xx,slope*xx,color='black',ls='--',alpha=0.5)\n",
    "    plt.ylim(None,0.5)\n",
    "    plt.scatter(data.b1,data.shadow,color='black',s=3,alpha=0.5)\n",
    "plt.tight_layout()\n",
    "plt.savefig('/home/s1332488/chapter2/N_ML_comparison.png',dpi=300)\n",
    "plt.show()\n"
   ]
  },
  {
   "cell_type": "code",
   "execution_count": 52,
   "metadata": {},
   "outputs": [
    {
     "data": {
      "text/html": [
       "<div>\n",
       "<style scoped>\n",
       "    .dataframe tbody tr th:only-of-type {\n",
       "        vertical-align: middle;\n",
       "    }\n",
       "\n",
       "    .dataframe tbody tr th {\n",
       "        vertical-align: top;\n",
       "    }\n",
       "\n",
       "    .dataframe thead th {\n",
       "        text-align: right;\n",
       "    }\n",
       "</style>\n",
       "<table border=\"1\" class=\"dataframe\">\n",
       "  <thead>\n",
       "    <tr style=\"text-align: right;\">\n",
       "      <th></th>\n",
       "      <th>DN</th>\n",
       "      <th>id</th>\n",
       "      <th>geometry</th>\n",
       "      <th>shadow_is_gap</th>\n",
       "      <th>is_core</th>\n",
       "    </tr>\n",
       "  </thead>\n",
       "  <tbody>\n",
       "    <tr>\n",
       "      <th>0</th>\n",
       "      <td>1</td>\n",
       "      <td>None</td>\n",
       "      <td>POLYGON ((195350.000 -15039.878, 195350.000 -1...</td>\n",
       "      <td>True</td>\n",
       "      <td>False</td>\n",
       "    </tr>\n",
       "    <tr>\n",
       "      <th>1</th>\n",
       "      <td>1</td>\n",
       "      <td>None</td>\n",
       "      <td>POLYGON ((195400.000 -15010.000, 195430.000 -1...</td>\n",
       "      <td>True</td>\n",
       "      <td>False</td>\n",
       "    </tr>\n",
       "    <tr>\n",
       "      <th>2</th>\n",
       "      <td>1</td>\n",
       "      <td>None</td>\n",
       "      <td>POLYGON ((195590.000 -15030.000, 195620.000 -1...</td>\n",
       "      <td>True</td>\n",
       "      <td>False</td>\n",
       "    </tr>\n",
       "    <tr>\n",
       "      <th>3</th>\n",
       "      <td>1</td>\n",
       "      <td>None</td>\n",
       "      <td>POLYGON ((195470.000 -15050.000, 195490.000 -1...</td>\n",
       "      <td>True</td>\n",
       "      <td>False</td>\n",
       "    </tr>\n",
       "    <tr>\n",
       "      <th>4</th>\n",
       "      <td>1</td>\n",
       "      <td>None</td>\n",
       "      <td>POLYGON ((195300.000 -15140.000, 195320.000 -1...</td>\n",
       "      <td>True</td>\n",
       "      <td>False</td>\n",
       "    </tr>\n",
       "  </tbody>\n",
       "</table>\n",
       "</div>"
      ],
      "text/plain": [
       "   DN    id                                           geometry  shadow_is_gap  \\\n",
       "0   1  None  POLYGON ((195350.000 -15039.878, 195350.000 -1...           True   \n",
       "1   1  None  POLYGON ((195400.000 -15010.000, 195430.000 -1...           True   \n",
       "2   1  None  POLYGON ((195590.000 -15030.000, 195620.000 -1...           True   \n",
       "3   1  None  POLYGON ((195470.000 -15050.000, 195490.000 -1...           True   \n",
       "4   1  None  POLYGON ((195300.000 -15140.000, 195320.000 -1...           True   \n",
       "\n",
       "   is_core  \n",
       "0    False  \n",
       "1    False  \n",
       "2    False  \n",
       "3    False  \n",
       "4    False  "
      ]
     },
     "execution_count": 52,
     "metadata": {},
     "output_type": "execute_result"
    }
   ],
   "source": [
    "df_dates = shadows[0]\n",
    "df_dates['shadow_is_gap'] = df_dates.intersects(gaps.unary_union)\n",
    "df_dates['is_core'] = df_dates.intersects(core_gaps.unary_union)\n",
    "df_dates.head()"
   ]
  },
  {
   "cell_type": "code",
   "execution_count": 31,
   "metadata": {},
   "outputs": [
    {
     "data": {
      "text/plain": [
       "30.0"
      ]
     },
     "execution_count": 31,
     "metadata": {},
     "output_type": "execute_result"
    }
   ],
   "source": [
    "360/12"
   ]
  },
  {
   "cell_type": "code",
   "execution_count": 36,
   "metadata": {},
   "outputs": [
    {
     "data": {
      "image/png": "[encoded data removed]",
      "text/plain": [
       "<Figure size 288x216 with 1 Axes>"
      ]
     },
     "metadata": {
      "needs_background": "light"
     },
     "output_type": "display_data"
    }
   ],
   "source": [
    "# Compare true shadows to false alarms\n",
    "# df_dates[df_dates.shadow_is_gap].date_media.plot.hist(bins=25)\n",
    "# df_dates[~df_dates.shadow_is_gap].date_media.plot.hist(alpha=0.5,bins=25)\n",
    "\n",
    "# Plot overall histogram\n",
    "plt.figure(figsize=(4,3))\n",
    "df_dates[df_dates.is_core]._median.plot.hist(density=True,label='Controlled Logging',bins=15)\n",
    "df_dates[~df_dates.is_core]._median.plot.hist(density=True,label='Other disturbances',alpha=0.5,bins=15)\n",
    "plt.legend()\n",
    "plt.xticks([15,105,195,285,(366+15)],['Jan 2020','Apr','Jul','Oct','Jan 2021'])\n",
    "plt.yticks([0,0.01,0.02,0.03])\n",
    "plt.ylabel('Normalised Frequency')\n",
    "plt.xlabel('Median date of disturbance')\n",
    "plt.tight_layout()\n",
    "plt.savefig('/home/s1332488/chapter2/shadow_dates_aoi.png',dpi=300)"
   ]
  },
  {
   "cell_type": "code",
   "execution_count": 53,
   "metadata": {},
   "outputs": [
    {
     "data": {
      "text/html": [
       "<div>\n",
       "<style scoped>\n",
       "    .dataframe tbody tr th:only-of-type {\n",
       "        vertical-align: middle;\n",
       "    }\n",
       "\n",
       "    .dataframe tbody tr th {\n",
       "        vertical-align: top;\n",
       "    }\n",
       "\n",
       "    .dataframe thead th {\n",
       "        text-align: right;\n",
       "    }\n",
       "</style>\n",
       "<table border=\"1\" class=\"dataframe\">\n",
       "  <thead>\n",
       "    <tr style=\"text-align: right;\">\n",
       "      <th></th>\n",
       "      <th>id</th>\n",
       "      <th>area</th>\n",
       "      <th>perimeter</th>\n",
       "      <th>geometry</th>\n",
       "      <th>gap_detected</th>\n",
       "    </tr>\n",
       "  </thead>\n",
       "  <tbody>\n",
       "    <tr>\n",
       "      <th>0</th>\n",
       "      <td>None</td>\n",
       "      <td>1016.570587</td>\n",
       "      <td>181.028671</td>\n",
       "      <td>POLYGON ((195394.102 -15028.186, 195394.100 -1...</td>\n",
       "      <td>True</td>\n",
       "    </tr>\n",
       "    <tr>\n",
       "      <th>1</th>\n",
       "      <td>None</td>\n",
       "      <td>1352.351257</td>\n",
       "      <td>183.042691</td>\n",
       "      <td>POLYGON ((195456.906 -15072.128, 195461.391 -1...</td>\n",
       "      <td>True</td>\n",
       "    </tr>\n",
       "    <tr>\n",
       "      <th>2</th>\n",
       "      <td>None</td>\n",
       "      <td>992.241898</td>\n",
       "      <td>194.673357</td>\n",
       "      <td>POLYGON ((195416.539 -15110.815, 195425.305 -1...</td>\n",
       "      <td>True</td>\n",
       "    </tr>\n",
       "    <tr>\n",
       "      <th>3</th>\n",
       "      <td>None</td>\n",
       "      <td>272.929825</td>\n",
       "      <td>93.235663</td>\n",
       "      <td>POLYGON ((195355.165 -15082.114, 195360.057 -1...</td>\n",
       "      <td>False</td>\n",
       "    </tr>\n",
       "    <tr>\n",
       "      <th>4</th>\n",
       "      <td>None</td>\n",
       "      <td>192.878143</td>\n",
       "      <td>55.881906</td>\n",
       "      <td>POLYGON ((195344.558 -15046.673, 195349.043 -1...</td>\n",
       "      <td>True</td>\n",
       "    </tr>\n",
       "    <tr>\n",
       "      <th>...</th>\n",
       "      <td>...</td>\n",
       "      <td>...</td>\n",
       "      <td>...</td>\n",
       "      <td>...</td>\n",
       "      <td>...</td>\n",
       "    </tr>\n",
       "    <tr>\n",
       "      <th>260</th>\n",
       "      <td>None</td>\n",
       "      <td>106.990906</td>\n",
       "      <td>68.279015</td>\n",
       "      <td>POLYGON ((195347.040 -16081.098, 195352.249 -1...</td>\n",
       "      <td>False</td>\n",
       "    </tr>\n",
       "    <tr>\n",
       "      <th>261</th>\n",
       "      <td>None</td>\n",
       "      <td>NaN</td>\n",
       "      <td>NaN</td>\n",
       "      <td>POLYGON ((193913.580 -16223.898, 193915.364 -1...</td>\n",
       "      <td>False</td>\n",
       "    </tr>\n",
       "    <tr>\n",
       "      <th>262</th>\n",
       "      <td>None</td>\n",
       "      <td>NaN</td>\n",
       "      <td>NaN</td>\n",
       "      <td>POLYGON ((195945.144 -15413.407, 195947.273 -1...</td>\n",
       "      <td>True</td>\n",
       "    </tr>\n",
       "    <tr>\n",
       "      <th>263</th>\n",
       "      <td>None</td>\n",
       "      <td>NaN</td>\n",
       "      <td>NaN</td>\n",
       "      <td>POLYGON ((196963.069 -15478.145, 196969.789 -1...</td>\n",
       "      <td>False</td>\n",
       "    </tr>\n",
       "    <tr>\n",
       "      <th>264</th>\n",
       "      <td>None</td>\n",
       "      <td>NaN</td>\n",
       "      <td>NaN</td>\n",
       "      <td>POLYGON ((196921.374 -15458.219, 196924.734 -1...</td>\n",
       "      <td>False</td>\n",
       "    </tr>\n",
       "  </tbody>\n",
       "</table>\n",
       "<p>265 rows × 5 columns</p>\n",
       "</div>"
      ],
      "text/plain": [
       "       id         area   perimeter  \\\n",
       "0    None  1016.570587  181.028671   \n",
       "1    None  1352.351257  183.042691   \n",
       "2    None   992.241898  194.673357   \n",
       "3    None   272.929825   93.235663   \n",
       "4    None   192.878143   55.881906   \n",
       "..    ...          ...         ...   \n",
       "260  None   106.990906   68.279015   \n",
       "261  None          NaN         NaN   \n",
       "262  None          NaN         NaN   \n",
       "263  None          NaN         NaN   \n",
       "264  None          NaN         NaN   \n",
       "\n",
       "                                              geometry  gap_detected  \n",
       "0    POLYGON ((195394.102 -15028.186, 195394.100 -1...          True  \n",
       "1    POLYGON ((195456.906 -15072.128, 195461.391 -1...          True  \n",
       "2    POLYGON ((195416.539 -15110.815, 195425.305 -1...          True  \n",
       "3    POLYGON ((195355.165 -15082.114, 195360.057 -1...         False  \n",
       "4    POLYGON ((195344.558 -15046.673, 195349.043 -1...          True  \n",
       "..                                                 ...           ...  \n",
       "260  POLYGON ((195347.040 -16081.098, 195352.249 -1...         False  \n",
       "261  POLYGON ((193913.580 -16223.898, 193915.364 -1...         False  \n",
       "262  POLYGON ((195945.144 -15413.407, 195947.273 -1...          True  \n",
       "263  POLYGON ((196963.069 -15478.145, 196969.789 -1...         False  \n",
       "264  POLYGON ((196921.374 -15458.219, 196924.734 -1...         False  \n",
       "\n",
       "[265 rows x 5 columns]"
      ]
     },
     "execution_count": 53,
     "metadata": {},
     "output_type": "execute_result"
    }
   ],
   "source": [
    "gaps['gap_detected'] = gaps.intersects(df_dates.unary_union)\n",
    "gaps"
   ]
  },
  {
   "cell_type": "code",
   "execution_count": 61,
   "metadata": {},
   "outputs": [
    {
     "data": {
      "image/png": "[encoded data removed]",
      "text/plain": [
       "<Figure size 576x360 with 1 Axes>"
      ]
     },
     "metadata": {
      "needs_background": "light"
     },
     "output_type": "display_data"
    }
   ],
   "source": [
    "plt.figure(figsize=(8,5))\n",
    "edges = [100,150,200,250,300,400,500,600,700,1000,1500]\n",
    "mids = (np.array(edges)[:-1] + np.array(edges)[1:])/2\n",
    "widths = (np.array(edges)[:-1] - np.array(edges)[1:])\n",
    "cut = pd.cut(gaps.area,edges)\n",
    "success= gaps.groupby(cut).mean().gap_detected\n",
    "N = gaps.groupby(cut).size()\n",
    "plt.bar(mids,success,width=widths,color='#f7eac6',edgecolor='black',lw=2)\n",
    "i=0\n",
    "for x in N:\n",
    "    plt.text(mids[i]-5,0.05,'N ='+str(x),rotation=90)\n",
    "    i+=1\n",
    "plt.xticks([100,200,300,400,500,600,700,1000,1500])\n",
    "plt.xlabel('Canopy Gap Size ($m^2$)')\n",
    "plt.yticks(np.arange(0,1.1,0.1),np.arange(0,101,10))\n",
    "plt.ylim(0,1)\n",
    "plt.xlim(100,1500)\n",
    "plt.ylabel('Detection rate (% of gaps)')\n",
    "plt.savefig('/home/s1332488/chapter2/detection_rate.png',dpi=300)\n",
    "plt.show()"
   ]
  },
  {
   "cell_type": "code",
   "execution_count": 122,
   "metadata": {},
   "outputs": [
    {
     "data": {
      "text/plain": [
       "(100, 175]      30\n",
       "(175, 250]      27\n",
       "(250, 325]      32\n",
       "(325, 400]      19\n",
       "(400, 500]      29\n",
       "(500, 600]      25\n",
       "(600, 700]      36\n",
       "(700, 800]      15\n",
       "(800, 900]       8\n",
       "(900, 1000]      7\n",
       "(1000, 1500]    21\n",
       "dtype: int64"
      ]
     },
     "execution_count": 122,
     "metadata": {},
     "output_type": "execute_result"
    }
   ],
   "source": [
    "gaps.groupby(cut).size()"
   ]
  },
  {
   "cell_type": "code",
   "execution_count": 4,
   "metadata": {},
   "outputs": [],
   "source": [
    "stats = pd.read_csv('stats_for_graph.csv')\n",
    "stats=stats.sort_values(by='N')"
   ]
  },
  {
   "cell_type": "code",
   "execution_count": 45,
   "metadata": {},
   "outputs": [
    {
     "ename": "AttributeError",
     "evalue": "'DataFrame' object has no attribute 'ML'",
     "output_type": "error",
     "traceback": [
      "\u001b[0;31m---------------------------------------------------------------------------\u001b[0m",
      "\u001b[0;31mAttributeError\u001b[0m                            Traceback (most recent call last)",
      "\u001b[0;32m<ipython-input-45-5942d464242c>\u001b[0m in \u001b[0;36m<module>\u001b[0;34m\u001b[0m\n\u001b[1;32m      8\u001b[0m                                 color='black',align='edge',width=-WIDTH)\n\u001b[1;32m      9\u001b[0m \u001b[0max\u001b[0m \u001b[0;34m=\u001b[0m \u001b[0maxs\u001b[0m\u001b[0;34m[\u001b[0m\u001b[0;36m0\u001b[0m\u001b[0;34m]\u001b[0m\u001b[0;34m\u001b[0m\u001b[0;34m\u001b[0m\u001b[0m\n\u001b[0;32m---> 10\u001b[0;31m \u001b[0mdo_subplot\u001b[0m\u001b[0;34m(\u001b[0m\u001b[0;34m'Overall'\u001b[0m\u001b[0;34m)\u001b[0m\u001b[0;34m\u001b[0m\u001b[0;34m\u001b[0m\u001b[0m\n\u001b[0m\u001b[1;32m     11\u001b[0m \u001b[0max\u001b[0m\u001b[0;34m.\u001b[0m\u001b[0mset\u001b[0m\u001b[0;34m(\u001b[0m\u001b[0mylim\u001b[0m\u001b[0;34m=\u001b[0m\u001b[0;34m(\u001b[0m\u001b[0;36m97.1\u001b[0m\u001b[0;34m,\u001b[0m\u001b[0;36m99.1\u001b[0m\u001b[0;34m)\u001b[0m\u001b[0;34m,\u001b[0m\u001b[0mxlim\u001b[0m\u001b[0;34m=\u001b[0m\u001b[0;34m(\u001b[0m\u001b[0;34m-\u001b[0m\u001b[0;36m1\u001b[0m\u001b[0;34m,\u001b[0m\u001b[0;36m5\u001b[0m\u001b[0;34m)\u001b[0m\u001b[0;34m)\u001b[0m\u001b[0;34m\u001b[0m\u001b[0;34m\u001b[0m\u001b[0m\n\u001b[1;32m     12\u001b[0m \u001b[0max\u001b[0m\u001b[0;34m.\u001b[0m\u001b[0mset\u001b[0m\u001b[0;34m(\u001b[0m\u001b[0mtitle\u001b[0m\u001b[0;34m=\u001b[0m\u001b[0;34m'Overall Accuracy (%)'\u001b[0m\u001b[0;34m)\u001b[0m\u001b[0;34m\u001b[0m\u001b[0;34m\u001b[0m\u001b[0m\n",
      "\u001b[0;32m<ipython-input-45-5942d464242c>\u001b[0m in \u001b[0;36mdo_subplot\u001b[0;34m(yfeature)\u001b[0m\n\u001b[1;32m      3\u001b[0m \u001b[0mWIDTH\u001b[0m \u001b[0;34m=\u001b[0m \u001b[0;36m0.25\u001b[0m\u001b[0;34m\u001b[0m\u001b[0;34m\u001b[0m\u001b[0m\n\u001b[1;32m      4\u001b[0m \u001b[0;32mdef\u001b[0m \u001b[0mdo_subplot\u001b[0m\u001b[0;34m(\u001b[0m\u001b[0myfeature\u001b[0m\u001b[0;34m)\u001b[0m\u001b[0;34m:\u001b[0m\u001b[0;34m\u001b[0m\u001b[0;34m\u001b[0m\u001b[0m\n\u001b[0;32m----> 5\u001b[0;31m     stats[stats.ML==1].plot.bar(x='N',y=yfeature,ax=ax,label='Multilooking',\n\u001b[0m\u001b[1;32m      6\u001b[0m                                 color='grey',align='edge',width=WIDTH)\n\u001b[1;32m      7\u001b[0m     stats[stats.ML==0].plot.bar(x='N',y=yfeature,ax=ax,label='No Multilooking',\n",
      "\u001b[0;32m/exports/csce/datastore/geos/users/s1332488/minibonda/envs/XR/lib/python3.7/site-packages/pandas/core/generic.py\u001b[0m in \u001b[0;36m__getattr__\u001b[0;34m(self, name)\u001b[0m\n\u001b[1;32m   5485\u001b[0m         ):\n\u001b[1;32m   5486\u001b[0m             \u001b[0;32mreturn\u001b[0m \u001b[0mself\u001b[0m\u001b[0;34m[\u001b[0m\u001b[0mname\u001b[0m\u001b[0;34m]\u001b[0m\u001b[0;34m\u001b[0m\u001b[0;34m\u001b[0m\u001b[0m\n\u001b[0;32m-> 5487\u001b[0;31m         \u001b[0;32mreturn\u001b[0m \u001b[0mobject\u001b[0m\u001b[0;34m.\u001b[0m\u001b[0m__getattribute__\u001b[0m\u001b[0;34m(\u001b[0m\u001b[0mself\u001b[0m\u001b[0;34m,\u001b[0m \u001b[0mname\u001b[0m\u001b[0;34m)\u001b[0m\u001b[0;34m\u001b[0m\u001b[0;34m\u001b[0m\u001b[0m\n\u001b[0m\u001b[1;32m   5488\u001b[0m \u001b[0;34m\u001b[0m\u001b[0m\n\u001b[1;32m   5489\u001b[0m     \u001b[0;32mdef\u001b[0m \u001b[0m__setattr__\u001b[0m\u001b[0;34m(\u001b[0m\u001b[0mself\u001b[0m\u001b[0;34m,\u001b[0m \u001b[0mname\u001b[0m\u001b[0;34m:\u001b[0m \u001b[0mstr\u001b[0m\u001b[0;34m,\u001b[0m \u001b[0mvalue\u001b[0m\u001b[0;34m)\u001b[0m \u001b[0;34m->\u001b[0m \u001b[0;32mNone\u001b[0m\u001b[0;34m:\u001b[0m\u001b[0;34m\u001b[0m\u001b[0;34m\u001b[0m\u001b[0m\n",
      "\u001b[0;31mAttributeError\u001b[0m: 'DataFrame' object has no attribute 'ML'"
     ]
    },
    {
     "data": {
      "image/png": "[encoded data removed]",
      "text/plain": [
       "<Figure size 864x360 with 3 Axes>"
      ]
     },
     "metadata": {
      "needs_background": "light"
     },
     "output_type": "display_data"
    }
   ],
   "source": [
    "fig,axs = plt.subplots(1,3,figsize=(12,5))\n",
    "\n",
    "WIDTH = 0.25\n",
    "def do_subplot(yfeature):\n",
    "    stats[stats.ML==1].plot.bar(x='N',y=yfeature,ax=ax,label='Multilooking',\n",
    "                                color='grey',align='edge',width=WIDTH)\n",
    "    stats[stats.ML==0].plot.bar(x='N',y=yfeature,ax=ax,label='No Multilooking',\n",
    "                                color='black',align='edge',width=-WIDTH)\n",
    "ax = axs[0]\n",
    "do_subplot('Overall')\n",
    "ax.set(ylim=(97.1,99.1),xlim=(-1,5))\n",
    "ax.set(title='Overall Accuracy (%)')\n",
    "ax = axs[1]\n",
    "do_subplot('FA_total')\n",
    "ax.set(xlim=(-1,5))\n",
    "# stats[stats.ML==1].plot(x='N',y='FA_total',ax=ax,marker='o',color='#006837',\n",
    "#                         label='Multilooking',lw=0)\n",
    "# stats[stats.ML==0].plot(x='N',y='FA_total',ax=ax,marker='s',color='black',\n",
    "#                         label='No Multilooking',lw=0)\n",
    "ax.legend()\n",
    "ax.set(title='False Alarm Rate (%)')\n",
    "ax = axs[2]\n",
    "do_subplot('MD_total')\n",
    "ax.set(xlim=(-1,5))\n",
    "# stats[stats.ML==1].plot(x='N',y='MD_total',ax=ax,marker='o',color='#006837',\n",
    "#                         label='Multilooking',lw=0)\n",
    "# stats[stats.ML==0].plot(x='N',y='MD_total',ax=ax,marker='s',color='black',\n",
    "#                         label='No Multilooking',lw=0)\n",
    "ax.set(title='Missed Detection Rate (%)')\n",
    "ax.legend()\n",
    "\n",
    "for ax in axs:\n",
    "    ax.set(xlabel='n (post-event images)')\n",
    "    \n",
    "plt.savefig('/home/s1332488/chapter2/accuracy_v2.png',dpi=300)"
   ]
  }
 ],
 "metadata": {
  "kernelspec": {
   "display_name": "XR",
   "language": "python",
   "name": "xr"
  },
  "language_info": {
   "codemirror_mode": {
    "name": "ipython",
    "version": 3
   },
   "file_extension": ".py",
   "mimetype": "text/x-python",
   "name": "python",
   "nbconvert_exporter": "python",
   "pygments_lexer": "ipython3",
   "version": "3.7.10"
  }
 },
 "nbformat": 4,
 "nbformat_minor": 4
}
